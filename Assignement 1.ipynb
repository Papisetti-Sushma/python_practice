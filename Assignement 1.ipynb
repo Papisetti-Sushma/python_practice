{
 "cells": [
  {
   "cell_type": "markdown",
   "id": "22329c1e-7ea8-4a92-8afc-01f6a1ceb441",
   "metadata": {},
   "source": [
    "# 1 what is python and why it is popular?\n",
    "\n",
    "- python is a object oriented programming language\n",
    "- and it is easy to learn compared to othe programming languages like c++,java etc..\n",
    "- In python we have many libraries\n",
    "- and can be used in many modules like data science,full stack and etc..\n",
    "- python is popular becoz its user friendly\n",
    "- easy to learn and use "
   ]
  },
  {
   "cell_type": "markdown",
   "id": "3cbd44eb-a17c-4957-9eab-338fbd22d66b",
   "metadata": {},
   "source": [
    "# 2.What is an IDE and name a few popular Python IDEs?\n",
    "\n",
    "- IdE is used to implement the python code\n",
    "- the most popular IDE for python are :\n",
    "   jupyter notebook\n",
    "   google code\n",
    "   pycharm\n",
    "  and some online compilers"
   ]
  },
  {
   "cell_type": "markdown",
   "id": "d295a36a-5994-4101-8879-65e1b4bf21c9",
   "metadata": {},
   "source": [
    "# 3.What are the rules for naming variables in Python?\n",
    "There are 5 rules for naming an variable \n",
    "1.variable can be in alphanumeric \n",
    "2.variables cannot start with digits \n",
    "3. variables cannot have special characters except underscore(_)\n",
    "4.varaibles are case sensitive .\n",
    "5.variables cannot start with keywords"
   ]
  },
  {
   "cell_type": "markdown",
   "id": "0f34f561-b2af-46f5-a49f-ea8eeb2fdcb8",
   "metadata": {},
   "source": [
    "# 4. How do you assign multiple values to multiple variables in a single line?\n",
    "\n",
    "using equals to (=) we can assign multiple values to multiple varaiables \n",
    "\n",
    "ex : a=b=c=1=2=3"
   ]
  },
  {
   "cell_type": "markdown",
   "id": "fdfc8d85-1bc2-415a-b803-ce3ad0291564",
   "metadata": {},
   "source": [
    "# 5.Can you use Python keywords as variable names? Why or why not?\n",
    "\n",
    "we cannot use python keywords as variable names \n",
    "because keywords are reserved words with unique identity \n",
    "so we cannot use keywords as variable names "
   ]
  },
  {
   "cell_type": "markdown",
   "id": "f4385cff-c26c-46c0-8d7b-1ed8d4307085",
   "metadata": {},
   "source": [
    "# 6.Why are comments important in programming?\n",
    "\n",
    "comments are used to understand the code easily \n",
    "and for user purpose we write comments \n",
    "and the reprsentation of comments are (// )"
   ]
  },
  {
   "cell_type": "markdown",
   "id": "b171f5ae-f40b-4b51-89e4-b3bace374deb",
   "metadata": {},
   "source": [
    "# 7.What are the basic data types in Python?\n",
    "there 4 types of basic data types \n",
    "-int \n",
    "-float\n",
    "-boolean\n",
    "-complex"
   ]
  },
  {
   "cell_type": "markdown",
   "id": "e8ecc759-e586-4d1a-89ca-4e12f073f57d",
   "metadata": {},
   "source": [
    "# 8.How do you convert a string to an integer in Python?\n",
    "- using int()"
   ]
  },
  {
   "cell_type": "code",
   "execution_count": 19,
   "id": "5a2ef677-c749-471c-bc89-3b47b402ef7b",
   "metadata": {},
   "outputs": [
    {
     "name": "stdout",
     "output_type": "stream",
     "text": [
      "123\n"
     ]
    }
   ],
   "source": [
    "str=\"123\"\n",
    "print(int(str))"
   ]
  },
  {
   "cell_type": "markdown",
   "id": "4ff78a3f-5b88-4601-bc88-464be113bccb",
   "metadata": {},
   "source": [
    "# 9. What is the difference between int and float?\n",
    "1.int:\n",
    "- int is a data type where the values can be -infinity to +infinity including 0\n",
    "- and there is no decimals allowed\n",
    "- ex: a=1,b=2\n",
    "  \n",
    "2.float :\n",
    "- float is a data type where the decimals are allowed\n",
    "- along with all the numbers\n",
    "- ex: a=1.2 , b=3.0"
   ]
  },
  {
   "cell_type": "markdown",
   "id": "47b9e6d5-2553-4dbe-bff7-19723b2034d5",
   "metadata": {},
   "source": [
    "# 10.How do you check the data type of a variable?\n",
    "-using type() function we check the data type"
   ]
  },
  {
   "cell_type": "code",
   "execution_count": 25,
   "id": "4052d485-3861-4405-87bb-5feeb04aaf8b",
   "metadata": {},
   "outputs": [
    {
     "name": "stdout",
     "output_type": "stream",
     "text": [
      "<class 'str'>\n"
     ]
    }
   ],
   "source": [
    "a=\"sushma\"\n",
    "print(type(a))"
   ]
  },
  {
   "cell_type": "markdown",
   "id": "9a9f19d5-bd75-4619-b951-fc90a1d342f7",
   "metadata": {},
   "source": [
    "# 11.How do you add an element to a list?\n",
    "we can use append() operation for adding the element to a list "
   ]
  },
  {
   "cell_type": "code",
   "execution_count": 30,
   "id": "67fbdcb5-1455-42c1-b504-21596783db10",
   "metadata": {},
   "outputs": [
    {
     "name": "stdout",
     "output_type": "stream",
     "text": [
      "[1, 2, 3, 4, 5, 7, 10]\n"
     ]
    }
   ],
   "source": [
    "numbers=[1,2,3,4,5,7]\n",
    "numbers.append(10)\n",
    "print(numbers)"
   ]
  },
  {
   "cell_type": "markdown",
   "id": "df1076cc-7e72-4b77-bf15-5bf4abf95898",
   "metadata": {},
   "source": [
    "# 12. How do you create a tuple with one element?"
   ]
  },
  {
   "cell_type": "code",
   "execution_count": 40,
   "id": "1c7091fe-aa58-4fe1-9875-b62a9137efdf",
   "metadata": {},
   "outputs": [
    {
     "name": "stdout",
     "output_type": "stream",
     "text": [
      "<class 'tuple'>\n"
     ]
    }
   ],
   "source": [
    "tuple1=(\"sushma\",)\n",
    "print(type(tuple1))"
   ]
  },
  {
   "cell_type": "markdown",
   "id": "da26d1b9-5ee9-448d-be63-f402fef08917",
   "metadata": {},
   "source": [
    "# 13.How do you access a value in a dictionary using a key?\n",
    "\n",
    "- displays a list of all the keys in the dictionary."
   ]
  },
  {
   "cell_type": "code",
   "execution_count": 43,
   "id": "d18d75c6-7579-4198-88f8-3d80599f2c33",
   "metadata": {},
   "outputs": [
    {
     "name": "stdout",
     "output_type": "stream",
     "text": [
      "dict_keys(['name', 'age'])\n"
     ]
    }
   ],
   "source": [
    "person={ 'name':'sushma','age':20}\n",
    "print(person.keys())"
   ]
  },
  {
   "cell_type": "markdown",
   "id": "3dd64f70-5f63-4531-9dfd-bad43b82a997",
   "metadata": {},
   "source": [
    "# 14.How do you access elements in a list?\n",
    "\n",
    "- we access elements in list using index\n",
    "- the index start with 0 and then continues...\n",
    "- there are 2 types of index\n",
    "- positive index : starts with 0 and continue...\n",
    "- negative index : starts with -1 and continues.."
   ]
  },
  {
   "cell_type": "markdown",
   "id": "925312f5-b090-4664-a18b-15c6f0e77c35",
   "metadata": {},
   "source": [
    "# 15.How do you access a character in a string?\n",
    "- with square brackets "
   ]
  },
  {
   "cell_type": "code",
   "execution_count": 47,
   "id": "1f8e3a31-1805-43d7-b5eb-72d2d04d7e42",
   "metadata": {},
   "outputs": [
    {
     "name": "stdout",
     "output_type": "stream",
     "text": [
      "u\n"
     ]
    }
   ],
   "source": [
    "a=\"sushma\"\n",
    "print(a[1])"
   ]
  },
  {
   "cell_type": "markdown",
   "id": "89b7d36d-fd33-4587-b1f4-3472fede12f7",
   "metadata": {},
   "source": [
    "# 16.How do you format strings in Python?\n",
    "\n",
    "- it uses the operator {}"
   ]
  },
  {
   "cell_type": "code",
   "execution_count": 65,
   "id": "12d3b6c2-2256-4938-a3ae-232aceb8ee74",
   "metadata": {},
   "outputs": [
    {
     "name": "stdout",
     "output_type": "stream",
     "text": [
      "my name is sushma and im 20 old\n"
     ]
    }
   ],
   "source": [
    "name = \"sushma\"\n",
    "age = 20\n",
    "formatted_string= \"my name is {} and im {} old\".format(name,age)\n",
    "print(formatted_string)"
   ]
  },
  {
   "cell_type": "markdown",
   "id": "3fa5d7e4-aefd-4d74-b10a-4e0e4fdca7ca",
   "metadata": {},
   "source": [
    "# 17.What is a tuple and how is it different from a list?\n",
    "\n",
    "1.Tuple():\n",
    "\n",
    "- tuple is same as a list\n",
    "- tuple is immutable and will be in ordered sequence\n",
    "\n",
    "\n",
    "2.List():\n",
    "\n",
    "- list is mutable and can be modified\n"
   ]
  },
  {
   "cell_type": "markdown",
   "id": "9011d4a0-11e3-4c19-a438-26ccec1e5f6d",
   "metadata": {},
   "source": [
    "# 18.How do you concatenate two tuples?"
   ]
  },
  {
   "cell_type": "code",
   "execution_count": 77,
   "id": "2acaaf7d-e33a-4693-afb1-fdcdb967d2ff",
   "metadata": {},
   "outputs": [
    {
     "name": "stdout",
     "output_type": "stream",
     "text": [
      "('sushma', 1, 2, 3)\n"
     ]
    }
   ],
   "source": [
    "tuple1=(\"sushma\",)\n",
    "tuple2=(1,2,3)\n",
    "result=tuple1+tuple2\n",
    "print(result)"
   ]
  },
  {
   "cell_type": "markdown",
   "id": "e8e2fd58-dcb4-4395-bacc-4f1996d8d3e2",
   "metadata": {},
   "source": [
    "# 19.How do you access values in a dictionary?\n",
    "\n",
    "using get() function we can access the dictionaries \n"
   ]
  },
  {
   "cell_type": "code",
   "execution_count": 80,
   "id": "07766e41-cb9a-4802-9b8d-b5c1a19283f0",
   "metadata": {},
   "outputs": [
    {
     "name": "stdout",
     "output_type": "stream",
     "text": [
      "sushma\n"
     ]
    }
   ],
   "source": [
    "person = {\"name\": \"sushma\", \"age\": 20}\n",
    "print(person.get(\"name\"))"
   ]
  },
  {
   "cell_type": "markdown",
   "id": "b14f08ad-e8fc-4298-9503-b2a688c5a516",
   "metadata": {},
   "source": [
    "# 20.How do you add a key-value pair to a dictionary?\n",
    " using update()"
   ]
  },
  {
   "cell_type": "code",
   "execution_count": 89,
   "id": "f560d877-43ee-423d-b7ab-790b158ccf2a",
   "metadata": {},
   "outputs": [
    {
     "name": "stdout",
     "output_type": "stream",
     "text": [
      "{'name': 'sushma', 'age': 20, 'city': 'vijaywada'}\n"
     ]
    }
   ],
   "source": [
    "person = {\"name\": \"sushma\", \"age\": 20}\n",
    "person.update({\"city\": \"vijaywada\"})\n",
    "print(person) "
   ]
  },
  {
   "cell_type": "markdown",
   "id": "18ae6e84-07e0-4cfc-b80c-3c18dfe4f92d",
   "metadata": {},
   "source": [
    "# 21. How do you remove a key-value pair from a dictionary?\n",
    " using pop()\n",
    " "
   ]
  },
  {
   "cell_type": "code",
   "execution_count": 103,
   "id": "8ce3dd57-e298-47ac-a57f-e9f8bdcc62d8",
   "metadata": {},
   "outputs": [
    {
     "name": "stdout",
     "output_type": "stream",
     "text": [
      "20\n",
      "{'name': 'sushma'}\n"
     ]
    }
   ],
   "source": [
    "person = {\"name\": \"sushma\", \"age\": 20}\n",
    "age = person.pop(\"age\")\n",
    "print(age)  \n",
    "print(person) "
   ]
  },
  {
   "cell_type": "markdown",
   "id": "3956da6f-84b5-456d-82a2-f37a98634716",
   "metadata": {},
   "source": [
    "# 22.How do you add an element to a set?\n",
    "using add"
   ]
  },
  {
   "cell_type": "code",
   "execution_count": 108,
   "id": "17f7f6c8-9e5b-44b5-a899-2ea0aa7f5fea",
   "metadata": {},
   "outputs": [
    {
     "name": "stdout",
     "output_type": "stream",
     "text": [
      "{0, 1, 2, 4, 10}\n"
     ]
    }
   ],
   "source": [
    "my_set={1,4,2,0}\n",
    "my_set.add(10)\n",
    "print(my_set)"
   ]
  },
  {
   "cell_type": "markdown",
   "id": "ceded2e6-9165-4a24-a25b-a1dbcab539db",
   "metadata": {},
   "source": [
    "# 23. How do you remove an element from a set?"
   ]
  },
  {
   "cell_type": "code",
   "execution_count": 111,
   "id": "952ef599-f6a2-46b9-b60c-828dba7ae1d9",
   "metadata": {},
   "outputs": [
    {
     "name": "stdout",
     "output_type": "stream",
     "text": [
      "{1, 2, 4}\n"
     ]
    }
   ],
   "source": [
    "my_set={1,4,2,0}\n",
    "my_set.remove(0)\n",
    "print(my_set)"
   ]
  },
  {
   "cell_type": "markdown",
   "id": "9a2b5c1e-92de-40ba-957a-0e69624c6a27",
   "metadata": {},
   "source": [
    "# 24.What are the common set operations in Python?"
   ]
  },
  {
   "cell_type": "markdown",
   "id": "61e7f22b-9566-4774-ad69-c4c5a55c9e49",
   "metadata": {},
   "source": [
    "union,intersection,difference and symmentric difference"
   ]
  },
  {
   "cell_type": "markdown",
   "id": "e54b8c44-3d3e-4a73-a9af-ec87c1fd95db",
   "metadata": {},
   "source": [
    "# 25. Write a Python program to find the index of an element in a tuple?"
   ]
  },
  {
   "cell_type": "code",
   "execution_count": 120,
   "id": "57bc965a-5938-4617-81cf-b2862e85e576",
   "metadata": {},
   "outputs": [
    {
     "name": "stdout",
     "output_type": "stream",
     "text": [
      "1\n"
     ]
    }
   ],
   "source": [
    "name = ('sushma', 'harsha')\n",
    "print(name.index('harsha'))"
   ]
  },
  {
   "cell_type": "code",
   "execution_count": null,
   "id": "20603414-7266-4940-8337-60b71650843b",
   "metadata": {},
   "outputs": [],
   "source": []
  }
 ],
 "metadata": {
  "kernelspec": {
   "display_name": "Python 3 (ipykernel)",
   "language": "python",
   "name": "python3"
  },
  "language_info": {
   "codemirror_mode": {
    "name": "ipython",
    "version": 3
   },
   "file_extension": ".py",
   "mimetype": "text/x-python",
   "name": "python",
   "nbconvert_exporter": "python",
   "pygments_lexer": "ipython3",
   "version": "3.12.4"
  }
 },
 "nbformat": 4,
 "nbformat_minor": 5
}
