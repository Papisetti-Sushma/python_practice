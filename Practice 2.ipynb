{
 "cells": [
  {
   "cell_type": "markdown",
   "id": "92a263e4-2688-4958-a2be-06eae05aecb0",
   "metadata": {},
   "source": [
    "1.write the rules for creating variables?"
   ]
  },
  {
   "cell_type": "markdown",
   "id": "68acfeb0-33c8-49b9-aa30-a540bd3d5eaf",
   "metadata": {},
   "source": [
    "- variables cannot start with keywords\n",
    "- variables cannot start with digits \n",
    "- varaibles are case sensitive \n",
    "- variables are alpha numeric \n",
    "- variables cannnot start with special characters except underscore(_)"
   ]
  },
  {
   "cell_type": "markdown",
   "id": "8ecde690-1b55-4f56-ac25-aaea7e5a47ac",
   "metadata": {},
   "source": [
    "2.what is type() function with one function?"
   ]
  },
  {
   "cell_type": "markdown",
   "id": "05ed32d7-e7be-4244-b797-0c3f75cf89ea",
   "metadata": {},
   "source": [
    "- is used to know the exact type of the data that varaible stores"
   ]
  },
  {
   "cell_type": "code",
   "execution_count": 5,
   "id": "9873e214-2198-46a1-80bc-9c958b9438e4",
   "metadata": {},
   "outputs": [
    {
     "name": "stdout",
     "output_type": "stream",
     "text": [
      "<class 'int'>\n"
     ]
    }
   ],
   "source": [
    "k=12\n",
    "print(type(k))"
   ]
  },
  {
   "cell_type": "markdown",
   "id": "3dd0127c-ad74-4987-9ad5-24ee5ee7d822",
   "metadata": {},
   "source": [
    "3.difference between single equal to and double equal to ?"
   ]
  },
  {
   "cell_type": "markdown",
   "id": "8afe4750-8b74-447f-b403-5512b6c74a10",
   "metadata": {},
   "source": [
    "- single equal is used to assign the data to variable\n",
    "\n",
    "  like a=1\n",
    "\n",
    "  \n",
    "- doble equal is used to check whether the both are true or false\n",
    "\n",
    "  count == 0 "
   ]
  },
  {
   "cell_type": "markdown",
   "id": "f5c40d6e-7519-4c2e-9e74-356fee2f44e1",
   "metadata": {},
   "source": [
    "4.difference between mutable and immutable"
   ]
  },
  {
   "cell_type": "markdown",
   "id": "570de31b-daf5-44d3-bf13-896607539cd8",
   "metadata": {},
   "source": [
    "- mutable means we can modify , or change the given data \n",
    "- immutable data cannot be changed or modified"
   ]
  },
  {
   "cell_type": "markdown",
   "id": "8235b33d-62fc-4e78-9875-ce63bbb9239e",
   "metadata": {},
   "source": [
    "5.python code to print first 10 natural numbers"
   ]
  },
  {
   "cell_type": "code",
   "execution_count": 11,
   "id": "777b5491-dfd8-4c2e-8b19-468d9546c9b3",
   "metadata": {
    "scrolled": true
   },
   "outputs": [
    {
     "name": "stdout",
     "output_type": "stream",
     "text": [
      "1\n",
      "2\n",
      "3\n",
      "4\n",
      "5\n",
      "6\n",
      "7\n",
      "8\n",
      "9\n",
      "10\n"
     ]
    }
   ],
   "source": [
    "i = 1\n",
    "while(i<=10):\n",
    "    print(i)   \n",
    "    i += 1"
   ]
  },
  {
   "cell_type": "code",
   "execution_count": 12,
   "id": "ba6d1fb5-21d6-4924-b401-005d4a2d37dc",
   "metadata": {},
   "outputs": [
    {
     "name": "stdout",
     "output_type": "stream",
     "text": [
      "1\n",
      "2\n",
      "3\n",
      "4\n",
      "5\n",
      "6\n",
      "7\n",
      "8\n",
      "9\n",
      "10\n"
     ]
    }
   ],
   "source": [
    "for i in range(1, 11):\n",
    "    print(i)"
   ]
  },
  {
   "cell_type": "markdown",
   "id": "cd8fe52c-af8e-4d78-9d18-ba49c2f7d81f",
   "metadata": {},
   "source": [
    "5.python program sum of 1st 10 natural numbers"
   ]
  },
  {
   "cell_type": "code",
   "execution_count": 14,
   "id": "1d37ef09-1327-4547-99d2-a8c0959414be",
   "metadata": {},
   "outputs": [
    {
     "name": "stdout",
     "output_type": "stream",
     "text": [
      "55\n"
     ]
    }
   ],
   "source": [
    "sum = 0\n",
    "for i in range(0, 11):\n",
    "    sum = sum + i\n",
    "print(sum)"
   ]
  },
  {
   "cell_type": "code",
   "execution_count": 15,
   "id": "27a93a60-8b2e-49e6-ba85-e060cfe5c54c",
   "metadata": {},
   "outputs": [
    {
     "name": "stdout",
     "output_type": "stream",
     "text": [
      "55\n"
     ]
    }
   ],
   "source": [
    "sum = 0\n",
    "i = 0\n",
    "\n",
    "while i <= 10:\n",
    "    sum += i\n",
    "    i += 1\n",
    "\n",
    "print(sum)  \n"
   ]
  },
  {
   "cell_type": "markdown",
   "id": "d78522e7-f862-447d-8d42-7bff076f7399",
   "metadata": {},
   "source": [
    "assignment\n",
    "\n",
    "1.python program to identify given number is prime or not \n",
    "\n",
    "2.python program for fibanocci series of given number\n",
    "\n",
    "\n",
    "3.python program to identify the factorial of a given number\n",
    "\n",
    "4.python program to print multiplication table of the given number\n",
    "\n",
    "5.python program to count total number of digits in a given number \n",
    "\n",
    "6.python program to print list in a reverse using loop \n",
    "\n",
    "7.python program to display from -10 to -1 using loop"
   ]
  },
  {
   "cell_type": "markdown",
   "id": "b80e45e0-f5fe-4843-b4cb-67e4e6aaed79",
   "metadata": {},
   "source": [
    "# 6.python program to identify given number is prime or not"
   ]
  },
  {
   "cell_type": "code",
   "execution_count": 65,
   "id": "770ab2c0-2e6d-4285-81f1-9a2d6d5c1db1",
   "metadata": {},
   "outputs": [
    {
     "name": "stdin",
     "output_type": "stream",
     "text": [
      "Enter a number: 543\n"
     ]
    },
    {
     "name": "stdout",
     "output_type": "stream",
     "text": [
      "Not prime\n"
     ]
    }
   ],
   "source": [
    "num=int(input(\"Enter a number:\"))\n",
    "\n",
    "for i in range(2,num):  \n",
    "    if num % i==0:\n",
    "        print(\"Not prime\")\n",
    "        break \n",
    "else:\n",
    "    print(\"Prime numbers\")"
   ]
  },
  {
   "cell_type": "markdown",
   "id": "d952a617-0c30-49ac-bb04-aeab7f9369fb",
   "metadata": {},
   "source": [
    "# 7.python program for fibanocci series of given number"
   ]
  },
  {
   "cell_type": "code",
   "execution_count": 145,
   "id": "2bddff65-075e-4236-8487-e03ca2694252",
   "metadata": {},
   "outputs": [
    {
     "name": "stdin",
     "output_type": "stream",
     "text": [
      "Enter a number:  2\n"
     ]
    },
    {
     "name": "stdout",
     "output_type": "stream",
     "text": [
      "0\n",
      "1\n"
     ]
    }
   ],
   "source": [
    "n = int(input(\"Enter a number: \"))\n",
    "a, b,  = 0, 1\n",
    "i=0\n",
    "\n",
    "while i < n :\n",
    "    print(a)\n",
    "    a, b = b, a + b\n",
    "    i=i+1"
   ]
  },
  {
   "cell_type": "code",
   "execution_count": 98,
   "id": "ed3f2547-d5eb-475b-8082-86a2a922a8cb",
   "metadata": {},
   "outputs": [
    {
     "name": "stdin",
     "output_type": "stream",
     "text": [
      "Enter a number:  10\n"
     ]
    },
    {
     "name": "stdout",
     "output_type": "stream",
     "text": [
      "0\n",
      "1\n",
      "1\n",
      "2\n",
      "3\n",
      "5\n",
      "8\n",
      "13\n",
      "21\n",
      "34\n"
     ]
    }
   ],
   "source": [
    "n = int(input(\"Enter a number: \"))\n",
    "a, b = 0, 1\n",
    "\n",
    "for i in range(n):\n",
    "    print(a) \n",
    "    a, b = b, a + b"
   ]
  },
  {
   "cell_type": "markdown",
   "id": "470f182d-c58d-4a83-9bd2-79399e544823",
   "metadata": {},
   "source": [
    "# 8.python program to identify the factorial of a given number"
   ]
  },
  {
   "cell_type": "code",
   "execution_count": 19,
   "id": "0fcf7feb-1d89-431c-a94a-66d58e064027",
   "metadata": {},
   "outputs": [
    {
     "name": "stdin",
     "output_type": "stream",
     "text": [
      "Enter a number:  5\n"
     ]
    },
    {
     "name": "stdout",
     "output_type": "stream",
     "text": [
      "120\n"
     ]
    }
   ],
   "source": [
    "n = int(input(\"Enter a number: \"))\n",
    "result = 1 \n",
    "\n",
    "for i in range(1, n+1):\n",
    "    result *= i \n",
    "\n",
    "print( result) "
   ]
  },
  {
   "cell_type": "code",
   "execution_count": 21,
   "id": "e271a4c1-0004-4c13-a8b0-d8e5cd443328",
   "metadata": {},
   "outputs": [
    {
     "name": "stdin",
     "output_type": "stream",
     "text": [
      "Enter a number:  5\n"
     ]
    },
    {
     "name": "stdout",
     "output_type": "stream",
     "text": [
      "120\n"
     ]
    }
   ],
   "source": [
    "n = int(input(\"Enter a number: \"))\n",
    "result = 1 \n",
    "i = 1 \n",
    "\n",
    "while i <= n:\n",
    "    result *= i  \n",
    "    i += 1  \n",
    "\n",
    "print(result) "
   ]
  },
  {
   "cell_type": "markdown",
   "id": "4aea1322-c9e3-413e-8a47-a6c6b692e737",
   "metadata": {},
   "source": [
    "# 9.python program to print multiplication table of the given number"
   ]
  },
  {
   "cell_type": "code",
   "execution_count": 23,
   "id": "427c5367-1db4-41aa-a2b0-13cc7b8a3bf2",
   "metadata": {},
   "outputs": [
    {
     "name": "stdin",
     "output_type": "stream",
     "text": [
      "Enter a number:  5\n"
     ]
    },
    {
     "name": "stdout",
     "output_type": "stream",
     "text": [
      "5 x 1 = 5\n",
      "5 x 2 = 10\n",
      "5 x 3 = 15\n",
      "5 x 4 = 20\n",
      "5 x 5 = 25\n",
      "5 x 6 = 30\n",
      "5 x 7 = 35\n",
      "5 x 8 = 40\n",
      "5 x 9 = 45\n",
      "5 x 10 = 50\n"
     ]
    }
   ],
   "source": [
    "n = int(input(\"Enter a number: \"))\n",
    "\n",
    "for i in range(1, 11): \n",
    "    result = n * i\n",
    "    print(f\"{n} x {i} = {result}\")"
   ]
  },
  {
   "cell_type": "code",
   "execution_count": 25,
   "id": "ebd2d9d2-0478-4338-a3ef-d69261da8a30",
   "metadata": {},
   "outputs": [
    {
     "name": "stdin",
     "output_type": "stream",
     "text": [
      "Enter a number:  54\n"
     ]
    },
    {
     "name": "stdout",
     "output_type": "stream",
     "text": [
      "54 x 1 = 54\n",
      "54 x 2 = 108\n",
      "54 x 3 = 162\n",
      "54 x 4 = 216\n",
      "54 x 5 = 270\n",
      "54 x 6 = 324\n",
      "54 x 7 = 378\n",
      "54 x 8 = 432\n",
      "54 x 9 = 486\n",
      "54 x 10 = 540\n"
     ]
    }
   ],
   "source": [
    "n = int(input(\"Enter a number: \"))\n",
    "i = 1 \n",
    "\n",
    "while i <= 10:  \n",
    "    result = n * i  \n",
    "    print(f\"{n} x {i} = {result}\")  \n",
    "    i += 1 "
   ]
  },
  {
   "cell_type": "markdown",
   "id": "b49b7006-b6b5-4bfd-86a4-5eac7bb28a5e",
   "metadata": {},
   "source": [
    "# 10.python program to count total number of digits in a given number"
   ]
  },
  {
   "cell_type": "code",
   "execution_count": 57,
   "id": "ac341a47-d69e-4463-a389-c7b2367b6dca",
   "metadata": {},
   "outputs": [
    {
     "name": "stdin",
     "output_type": "stream",
     "text": [
      "Enter a number:  5432\n"
     ]
    },
    {
     "name": "stdout",
     "output_type": "stream",
     "text": [
      "4\n"
     ]
    }
   ],
   "source": [
    "n = input(\"Enter a number: \")\n",
    "i = 0\n",
    "\n",
    "for c in n:\n",
    "    if c.isdigit(): \n",
    "        i += 1\n",
    "\n",
    "print(i)"
   ]
  },
  {
   "cell_type": "code",
   "execution_count": 41,
   "id": "78707178-78f6-4c6c-a34e-dab913f1c678",
   "metadata": {},
   "outputs": [
    {
     "name": "stdin",
     "output_type": "stream",
     "text": [
      "Enter a number:  65432\n"
     ]
    },
    {
     "name": "stdout",
     "output_type": "stream",
     "text": [
      "5\n"
     ]
    }
   ],
   "source": [
    "n = input(\"Enter a number: \")\n",
    "count = 0\n",
    "i = 0\n",
    "\n",
    "while i < len(n):\n",
    "    if n[i].isdigit():\n",
    "        count += 1\n",
    "    i += 1\n",
    "\n",
    "print(count)"
   ]
  },
  {
   "cell_type": "markdown",
   "id": "1739210d-447f-4b44-927f-e0b386890551",
   "metadata": {},
   "source": [
    "# 11.python program to print list in a reverse using loop"
   ]
  },
  {
   "cell_type": "code",
   "execution_count": 53,
   "id": "c13735fd-ebb6-4893-97d9-3fd763447f6e",
   "metadata": {},
   "outputs": [
    {
     "name": "stdout",
     "output_type": "stream",
     "text": [
      "5\n",
      "4\n",
      "3\n",
      "2\n",
      "1\n"
     ]
    }
   ],
   "source": [
    "num = [1, 2, 3, 4, 5] \n",
    "\n",
    "for i in range(len(num) - 1, -1, -1): \n",
    "    print(num[i])"
   ]
  },
  {
   "cell_type": "code",
   "execution_count": 51,
   "id": "28ebdde5-0b77-41eb-a09c-036b5f0d29f3",
   "metadata": {},
   "outputs": [
    {
     "name": "stdout",
     "output_type": "stream",
     "text": [
      "5\n",
      "4\n",
      "3\n",
      "2\n",
      "1\n"
     ]
    }
   ],
   "source": [
    "num = [1, 2, 3, 4, 5] \n",
    "\n",
    "i = len(num) - 1 \n",
    "\n",
    "while i >= 0:  \n",
    "    print(num[i])\n",
    "    i -= 1"
   ]
  },
  {
   "cell_type": "markdown",
   "id": "75f686bc-e576-4ff4-871b-9f2386711da1",
   "metadata": {},
   "source": [
    "# 12.python program to display from -10 to -1 using loop"
   ]
  },
  {
   "cell_type": "code",
   "execution_count": 37,
   "id": "1d02f1e2-831e-42e9-b46e-c3b65bc742ef",
   "metadata": {},
   "outputs": [
    {
     "name": "stdout",
     "output_type": "stream",
     "text": [
      "-10\n",
      "-9\n",
      "-8\n",
      "-7\n",
      "-6\n",
      "-5\n",
      "-4\n",
      "-3\n",
      "-2\n",
      "-1\n"
     ]
    }
   ],
   "source": [
    "for i in range(-10,0):\n",
    "    print(i)"
   ]
  },
  {
   "cell_type": "code",
   "execution_count": 55,
   "id": "8dd9fe5b-302d-43a0-9cb4-cd35b49aa6d4",
   "metadata": {},
   "outputs": [
    {
     "name": "stdout",
     "output_type": "stream",
     "text": [
      "-10\n",
      "-9\n",
      "-8\n",
      "-7\n",
      "-6\n",
      "-5\n",
      "-4\n",
      "-3\n",
      "-2\n",
      "-1\n"
     ]
    }
   ],
   "source": [
    "i = -10\n",
    "while i < 0:\n",
    "    print(i)\n",
    "    i += 1\n"
   ]
  },
  {
   "cell_type": "code",
   "execution_count": null,
   "id": "77f34f39-691b-44ec-a6eb-66e4d3b2a4fc",
   "metadata": {},
   "outputs": [],
   "source": []
  }
 ],
 "metadata": {
  "kernelspec": {
   "display_name": "Python 3 (ipykernel)",
   "language": "python",
   "name": "python3"
  },
  "language_info": {
   "codemirror_mode": {
    "name": "ipython",
    "version": 3
   },
   "file_extension": ".py",
   "mimetype": "text/x-python",
   "name": "python",
   "nbconvert_exporter": "python",
   "pygments_lexer": "ipython3",
   "version": "3.12.4"
  }
 },
 "nbformat": 4,
 "nbformat_minor": 5
}
