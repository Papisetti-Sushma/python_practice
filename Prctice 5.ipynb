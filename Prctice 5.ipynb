{
 "cells": [
  {
   "cell_type": "markdown",
   "id": "e3094525-e41b-4a21-956f-c908c9838b21",
   "metadata": {},
   "source": [
    "# 1.Python function to count the number of ovals in a given string"
   ]
  },
  {
   "cell_type": "code",
   "execution_count": 13,
   "id": "229654e3-b681-4cdb-b61e-bcba5a28a573",
   "metadata": {},
   "outputs": [
    {
     "name": "stdin",
     "output_type": "stream",
     "text": [
      "Enter string: sushma\n"
     ]
    },
    {
     "name": "stdout",
     "output_type": "stream",
     "text": [
      "2\n"
     ]
    }
   ],
   "source": [
    "str=input(\"Enter string:\")\n",
    "vowels=0\n",
    "for i in str:\n",
    "      if(i=='a' or i=='e' or i=='i' or i=='o' or i=='u' or i=='A' or i=='E' or i=='I' or i=='O' or i=='U'):\n",
    "            vowels=vowels+1\n",
    "print(vowels)"
   ]
  },
  {
   "cell_type": "markdown",
   "id": "f6a70752-5ae9-4827-b8ce-85f7f0f7263d",
   "metadata": {},
   "source": [
    "# 2.Create a list of words and concatenate them into a single string"
   ]
  },
  {
   "cell_type": "code",
   "execution_count": 18,
   "id": "63cec38c-f04e-4b8c-b0a5-c49a17d957f9",
   "metadata": {},
   "outputs": [
    {
     "name": "stdout",
     "output_type": "stream",
     "text": [
      "Concatenated string: Iam Sushma from Vijaywada\n"
     ]
    }
   ],
   "source": [
    "words = [\"Iam\",\"Sushma\",\"from\",\"Vijaywada\"]\n",
    "result = \" \".join(words)\n",
    "print(\"Concatenated string:\", result)"
   ]
  },
  {
   "cell_type": "markdown",
   "id": "e6a6fdf9-3ace-41d0-856f-bbd951fdb18e",
   "metadata": {},
   "source": [
    "# 3.python program to find the length of the longest word in the sentence"
   ]
  },
  {
   "cell_type": "code",
   "execution_count": 55,
   "id": "0bea83ac-9ba6-4743-af35-49cb579d4776",
   "metadata": {},
   "outputs": [
    {
     "name": "stdin",
     "output_type": "stream",
     "text": [
      "Enter a sentence:  Im learning data scinece in Teks academy\n"
     ]
    },
    {
     "name": "stdout",
     "output_type": "stream",
     "text": [
      "Length of the longest word: 8\n"
     ]
    }
   ],
   "source": [
    "def length(s):\n",
    "    words = s.split()\n",
    "    longest = max(len(word) for word in words)\n",
    "    return longest\n",
    "\n",
    "sentence = input(\"Enter a sentence: \")\n",
    "print(\"Length of the longest word:\", length(sentence))"
   ]
  },
  {
   "cell_type": "markdown",
   "id": "a47a9894-646d-4090-95d7-ee790634f4cf",
   "metadata": {},
   "source": [
    "# 4.Remove all duplicate characters from a given string"
   ]
  },
  {
   "cell_type": "code",
   "execution_count": 66,
   "id": "0dce049d-7acf-4a0c-bc95-e172d0ac3d65",
   "metadata": {},
   "outputs": [
    {
     "name": "stdin",
     "output_type": "stream",
     "text": [
      "Enter a string:  sushma\n"
     ]
    },
    {
     "name": "stdout",
     "output_type": "stream",
     "text": [
      "String after removing duplicates: suhma\n"
     ]
    }
   ],
   "source": [
    "strs = input(\"Enter a string: \")\n",
    "result = []\n",
    "for char in strs:\n",
    "    if char not in result:\n",
    "        result.append(char)\n",
    "print(\"String after removing duplicates:\", ''.join(result))"
   ]
  },
  {
   "cell_type": "markdown",
   "id": "fe783f66-f6b9-4648-a956-7fe137c2bbfb",
   "metadata": {},
   "source": [
    "# 5.python program to find the length of the smallest word in the sentence"
   ]
  },
  {
   "cell_type": "code",
   "execution_count": 69,
   "id": "9f854772-4c79-411a-af34-eb84150483ec",
   "metadata": {},
   "outputs": [
    {
     "name": "stdin",
     "output_type": "stream",
     "text": [
      "Enter a sentence:  Im learning data science \n"
     ]
    },
    {
     "name": "stdout",
     "output_type": "stream",
     "text": [
      "Length of the longest word: 2\n"
     ]
    }
   ],
   "source": [
    "def length(s):\n",
    "    words = s.split()\n",
    "    longest = min(len(word) for word in words)\n",
    "    return longest\n",
    "\n",
    "sentence = input(\"Enter a sentence: \")\n",
    "print(\"Length of the longest word:\", length(sentence))"
   ]
  },
  {
   "cell_type": "markdown",
   "id": "98a56b8e-92dc-4660-9b1d-3d2b94e24f6f",
   "metadata": {},
   "source": [
    "# 6.Find the number of Consonants in a given word"
   ]
  },
  {
   "cell_type": "code",
   "execution_count": 72,
   "id": "c684a975-b0d8-4fab-b488-45c08c571ca5",
   "metadata": {},
   "outputs": [
    {
     "name": "stdin",
     "output_type": "stream",
     "text": [
      "Enter a word:  sushma\n"
     ]
    },
    {
     "name": "stdout",
     "output_type": "stream",
     "text": [
      "Number of consonants: 4\n"
     ]
    }
   ],
   "source": [
    "def consonants(word):\n",
    "    consonants = \"bcdfghjklmnpqrstvwxyzBCDFGHJKLMNPQRSTVWXYZ\"\n",
    "    count = sum(1 for char in word if char in consonants)\n",
    "    return count\n",
    "\n",
    "\n",
    "word = input(\"Enter a word: \")\n",
    "print(\"Number of consonants:\", consonants(word))\n"
   ]
  },
  {
   "cell_type": "markdown",
   "id": "7c4a19aa-7e57-4608-b8cf-91c0db0c6881",
   "metadata": {},
   "source": [
    "# 7.Check if a Number is Positive, Negative, or Zero"
   ]
  },
  {
   "cell_type": "code",
   "execution_count": 83,
   "id": "4b3be7b0-441d-48a1-a87d-837b6c7c2e20",
   "metadata": {},
   "outputs": [
    {
     "name": "stdin",
     "output_type": "stream",
     "text": [
      "Enter a number:  -135.64\n"
     ]
    },
    {
     "name": "stdout",
     "output_type": "stream",
     "text": [
      "The number is negative.\n"
     ]
    }
   ],
   "source": [
    "number = float(input(\"Enter a number: \"))\n",
    "\n",
    "if number > 0:\n",
    "    print(\"The number is positive.\")\n",
    "elif number < 0:\n",
    "    print(\"The number is negative.\")\n",
    "else:\n",
    "    print(\"The number is zero.\")"
   ]
  },
  {
   "cell_type": "markdown",
   "id": "38671554-7a2b-47bd-9d31-b0a5b6fd4416",
   "metadata": {},
   "source": [
    "# 8. Sum of First N Odd Numbers"
   ]
  },
  {
   "cell_type": "code",
   "execution_count": 88,
   "id": "c69c8b8e-ca89-4afd-a98b-6463f4b5efd0",
   "metadata": {},
   "outputs": [
    {
     "name": "stdin",
     "output_type": "stream",
     "text": [
      "Enter a number:  5\n"
     ]
    },
    {
     "name": "stdout",
     "output_type": "stream",
     "text": [
      "The sum of the first 5 odd numbers is 25.\n"
     ]
    }
   ],
   "source": [
    "n = int(input(\"Enter a number: \"))\n",
    "odd_sum = sum(range(1,2*n,2))\n",
    "print(f\"The sum of the first {n} odd numbers is {odd_sum}.\")"
   ]
  },
  {
   "cell_type": "markdown",
   "id": "8c493a7d-267e-42d7-9b60-6f9104478e9a",
   "metadata": {},
   "source": [
    "# 9.Check if a String Contains a Substring"
   ]
  },
  {
   "cell_type": "code",
   "execution_count": 91,
   "id": "b4c7ca06-ff86-4f7b-bdb9-2a70c28db98d",
   "metadata": {},
   "outputs": [
    {
     "name": "stdin",
     "output_type": "stream",
     "text": [
      "Enter a string:  My name is sushma \n",
      "Enter the substring to search:  sushma \n"
     ]
    },
    {
     "name": "stdout",
     "output_type": "stream",
     "text": [
      "The substring 'sushma ' is found in the string.\n"
     ]
    }
   ],
   "source": [
    "string = input(\"Enter a string: \")\n",
    "substring = input(\"Enter the substring to search: \")\n",
    "\n",
    "if substring in string:\n",
    "    print(f\"The substring '{substring}' is found in the string.\")\n",
    "else:\n",
    "    print(f\"The substring '{substring}' is not found in the string.\")"
   ]
  },
  {
   "cell_type": "markdown",
   "id": "c3e17a9a-f3cb-4b70-a36e-c3b245340c29",
   "metadata": {},
   "source": [
    "# 10.Count the Number of Words in a Sentence"
   ]
  },
  {
   "cell_type": "code",
   "execution_count": 105,
   "id": "b928e86c-c026-4573-a705-50be40d5e150",
   "metadata": {},
   "outputs": [
    {
     "name": "stdin",
     "output_type": "stream",
     "text": [
      "Enter a sentence:  Iam learning data science \n"
     ]
    },
    {
     "name": "stdout",
     "output_type": "stream",
     "text": [
      "The number of words in the sentence is 4.\n"
     ]
    }
   ],
   "source": [
    "sentence = input(\"Enter a sentence: \")\n",
    "word_count = len(sentence.split())\n",
    "print(f\"The number of words in the sentence is {word_count}.\")"
   ]
  },
  {
   "cell_type": "markdown",
   "id": "1ea54ce9-7458-41c1-b4a3-cc7b6b06bde6",
   "metadata": {},
   "source": [
    "# 11.Find the ASCII Value of a Character"
   ]
  },
  {
   "cell_type": "code",
   "execution_count": 117,
   "id": "c959f085-fed5-43ab-b68e-1f11abdb5d5f",
   "metadata": {},
   "outputs": [
    {
     "name": "stdin",
     "output_type": "stream",
     "text": [
      "Enter a character:  A\n"
     ]
    },
    {
     "name": "stdout",
     "output_type": "stream",
     "text": [
      "The ASCII value of 'A' is 65.\n"
     ]
    }
   ],
   "source": [
    "char = input(\"Enter a character: \")\n",
    "ascii = ord(char)\n",
    "print(f\"The ASCII value of '{char}' is {ascii}.\")"
   ]
  },
  {
   "cell_type": "markdown",
   "id": "a4e8850c-27f1-443d-8fbd-f359d405c18b",
   "metadata": {},
   "source": [
    "# 12.Remove a Specific Element from a List"
   ]
  },
  {
   "cell_type": "code",
   "execution_count": 152,
   "id": "4d46cc41-5dd3-4bc4-8ee4-5ad2fc8833aa",
   "metadata": {},
   "outputs": [
    {
     "name": "stdout",
     "output_type": "stream",
     "text": [
      "Updated animals list:  ['dog', 'dog', 'guinea pig', 'dog']\n"
     ]
    }
   ],
   "source": [
    "animals = ['cat','dog', 'dog', 'guinea pig', 'dog']\n",
    "animals.remove('cat')\n",
    "print('Updated animals list: ', animals)"
   ]
  },
  {
   "cell_type": "markdown",
   "id": "12b3e67a-906d-445f-8c04-8fa5f6f26a1b",
   "metadata": {},
   "source": [
    "# 13.Count the Number of matching characters in a pair of string"
   ]
  },
  {
   "cell_type": "code",
   "execution_count": 139,
   "id": "71bb1c4b-4069-43ac-87a7-6dd213a16d54",
   "metadata": {},
   "outputs": [
    {
     "name": "stdin",
     "output_type": "stream",
     "text": [
      "Enter the first string:  sushma \n",
      "Enter the second string:  Sushma\n"
     ]
    },
    {
     "name": "stdout",
     "output_type": "stream",
     "text": [
      "Number of matching characters: 5\n",
      "Matching characters: u, m, h, s, a\n"
     ]
    }
   ],
   "source": [
    "string1 = input(\"Enter the first string: \")\n",
    "string2 = input(\"Enter the second string: \")\n",
    "\n",
    "matching_characters = set(string1) & set(string2)\n",
    "\n",
    "print(f\"Number of matching characters: {len(matching_characters)}\")\n",
    "print(f\"Matching characters: {', '.join(matching_characters)}\")\n"
   ]
  },
  {
   "cell_type": "markdown",
   "id": "82b0985a-4772-4961-a72f-050a58959f9a",
   "metadata": {},
   "source": [
    "# 14.Convert List of tuples to List of dictionaries"
   ]
  },
  {
   "cell_type": "code",
   "execution_count": 148,
   "id": "fbc70eaf-b809-4d7a-a011-a6206d0b7c50",
   "metadata": {},
   "outputs": [
    {
     "name": "stdout",
     "output_type": "stream",
     "text": [
      "[{'name': 'Sushma'}, {'age': 20}, {'city': 'Vijaywada'}]\n"
     ]
    }
   ],
   "source": [
    "my_list = [(\"name\", \"Sushma\"), (\"age\", 20), (\"city\", \"Vijaywada\")]\n",
    "result = [dict([item]) for item in my_list]\n",
    "print(result)"
   ]
  },
  {
   "cell_type": "code",
   "execution_count": null,
   "id": "65626202-b746-4cad-a6cd-07a8e80ef582",
   "metadata": {},
   "outputs": [],
   "source": []
  }
 ],
 "metadata": {
  "kernelspec": {
   "display_name": "Python 3 (ipykernel)",
   "language": "python",
   "name": "python3"
  },
  "language_info": {
   "codemirror_mode": {
    "name": "ipython",
    "version": 3
   },
   "file_extension": ".py",
   "mimetype": "text/x-python",
   "name": "python",
   "nbconvert_exporter": "python",
   "pygments_lexer": "ipython3",
   "version": "3.12.4"
  }
 },
 "nbformat": 4,
 "nbformat_minor": 5
}
