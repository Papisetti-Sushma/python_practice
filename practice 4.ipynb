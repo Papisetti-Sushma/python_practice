{
 "cells": [
  {
   "cell_type": "markdown",
   "id": "352f4bc8-e9c8-4a3d-aa4a-f92a1cc4e188",
   "metadata": {},
   "source": [
    "# code to convert list into string"
   ]
  },
  {
   "cell_type": "code",
   "execution_count": 9,
   "id": "a20ca72e-a130-4820-8846-8632c1ed2913",
   "metadata": {},
   "outputs": [
    {
     "name": "stdout",
     "output_type": "stream",
     "text": [
      "hello\n"
     ]
    }
   ],
   "source": [
    "lst=['h','e','l','l''o']\n",
    "words=''.join(lst)\n",
    "print(words)"
   ]
  },
  {
   "cell_type": "markdown",
   "id": "e264093a-86d3-41c7-818f-8c7d43193bed",
   "metadata": {},
   "source": [
    "# area of triangle"
   ]
  },
  {
   "cell_type": "code",
   "execution_count": 21,
   "id": "82de4fc0-fbf8-4a80-a9c2-e0550b3fb3bf",
   "metadata": {},
   "outputs": [
    {
     "name": "stdin",
     "output_type": "stream",
     "text": [
      "enter the base: 15\n",
      "enter the height: 12\n"
     ]
    },
    {
     "name": "stdout",
     "output_type": "stream",
     "text": [
      "90.0\n"
     ]
    }
   ],
   "source": [
    "b=int(input(\"enter the base:\"))\n",
    "h=int(input(\"enter the height:\"))\n",
    "a=1/2*b*h\n",
    "print(a)"
   ]
  },
  {
   "cell_type": "markdown",
   "id": "7b0a0736-b0d2-41e7-a26b-c0de652b1ece",
   "metadata": {},
   "source": [
    "# triangles"
   ]
  },
  {
   "cell_type": "code",
   "execution_count": 40,
   "id": "2068e7f5-4d13-4012-9aa7-bd344f4d304a",
   "metadata": {},
   "outputs": [
    {
     "name": "stdin",
     "output_type": "stream",
     "text": [
      "enter the side 1: 3\n",
      "enter the side 2: 4\n",
      "enter the side 3: 5\n"
     ]
    },
    {
     "name": "stdout",
     "output_type": "stream",
     "text": [
      "This is a right-angle triangle.\n"
     ]
    }
   ],
   "source": [
    "a=int(input(\"enter the side 1:\"))\n",
    "b=int(input(\"enter the side 2:\"))\n",
    "c=int(input(\"enter the side 3:\"))\n",
    "\n",
    "if a**2 + b**2 == c**2:\n",
    "    print(\"This is a right-angle triangle.\")\n",
    "elif a**2 + b**2 > c**2:\n",
    "    print(\"This is an acute-angle triangle.\")\n",
    "else:\n",
    "    print(\"This is an obtuse-angle triangle.\")"
   ]
  },
  {
   "cell_type": "code",
   "execution_count": 69,
   "id": "a30a7f5d-7e23-4f6e-8a46-5f5b077c6067",
   "metadata": {},
   "outputs": [
    {
     "name": "stdin",
     "output_type": "stream",
     "text": [
      "enter the angle1: 90\n"
     ]
    },
    {
     "name": "stdout",
     "output_type": "stream",
     "text": [
      "Right Triangle\n"
     ]
    }
   ],
   "source": [
    "a=int(input(\"enter the angle1:\"))\n",
    "            \n",
    "if a < 90 and a>0:\n",
    "    print(\"Acute Triangle\")\n",
    "elif a == 90:\n",
    "    print(\"Right Triangle\")\n",
    "else:\n",
    "    print(\"Obtuse Triangle\")"
   ]
  },
  {
   "cell_type": "code",
   "execution_count": 81,
   "id": "17292f28-9649-43bb-8758-115267041e35",
   "metadata": {},
   "outputs": [
    {
     "name": "stdin",
     "output_type": "stream",
     "text": [
      "enter the angle1: 32\n",
      "enter the angle2: 32\n",
      "enter the angle3: 12\n"
     ]
    },
    {
     "name": "stdout",
     "output_type": "stream",
     "text": [
      "Acute Triangle\n"
     ]
    }
   ],
   "source": [
    "angle1=int(input(\"enter the angle1:\"))\n",
    "angle2=int(input(\"enter the angle2:\"))\n",
    "angle3=int(input(\"enter the angle3:\"))\n",
    "\n",
    "if angle1 < 90 and angle2 < 90 and angle3 < 90:\n",
    "    print(\"Acute Triangle\")\n",
    "elif angle1 == 90 or angle2 == 90 or angle3 == 90:\n",
    "    print(\"Right Triangle\")\n",
    "else:\n",
    "    print(\"Obtuse Triangle\")"
   ]
  },
  {
   "cell_type": "markdown",
   "id": "4be21534-aa4b-4bd3-9148-1e1f7aad11bf",
   "metadata": {},
   "source": [
    "# create the calculator"
   ]
  },
  {
   "cell_type": "code",
   "execution_count": 121,
   "id": "cae75b56-d405-48bf-a720-3e59691f367d",
   "metadata": {},
   "outputs": [],
   "source": [
    "class Calculator:\n",
    "    def add(self, x, y):\n",
    "        print(x + y)\n",
    "\n",
    "    def sub(self, x, y):\n",
    "        print(x - y)\n",
    "\n",
    "    def mul(self, x, y):\n",
    "        print(x * y)\n",
    "\n",
    "    def div(self, x, y):\n",
    "        print(x / y) "
   ]
  },
  {
   "cell_type": "code",
   "execution_count": 125,
   "id": "375680b0-eac0-4b8c-8513-8992718da0bd",
   "metadata": {},
   "outputs": [
    {
     "name": "stdout",
     "output_type": "stream",
     "text": [
      "9\n",
      "7\n",
      "42\n",
      "4.0\n",
      "1.0\n"
     ]
    }
   ],
   "source": [
    "x = Calculator()\n",
    "x.add(4, 5)       \n",
    "x.sub(10, 3)      \n",
    "x.mul(6, 7)      \n",
    "x.div(8, 2)       \n",
    "x.div(8, 8)"
   ]
  },
  {
   "cell_type": "markdown",
   "id": "43f76f54-5432-4627-9d57-adac417c5f75",
   "metadata": {},
   "source": [
    "# class to represent movie with attributes like mve title ,director and rating"
   ]
  },
  {
   "cell_type": "code",
   "execution_count": 49,
   "id": "28b0bcd7-e882-4099-89ba-0e76e97a5f76",
   "metadata": {},
   "outputs": [],
   "source": [
    "class Movie:\n",
    "    def __init__(self,hero,heroine, title, director, rating):\n",
    "        self.hero=hero\n",
    "        self.heroine=heroine\n",
    "        self.title = title\n",
    "        self.director = director\n",
    "        self.rating = rating\n",
    "\n",
    "    def __str__(self):\n",
    "        return f\"Hero: {self.hero}, heroine: {self.heroine}, Title: {self.title}, Director: {self.director}, Rating: {self.rating}\""
   ]
  },
  {
   "cell_type": "code",
   "execution_count": 53,
   "id": "ada88b4d-be16-4dbe-bfda-9feb3377f25d",
   "metadata": {},
   "outputs": [
    {
     "name": "stdout",
     "output_type": "stream",
     "text": [
      "Hero:Prabas, heroine:Anuskha, Title: Bahubali, Director: Rajamouli, Rating: 9.5\n"
     ]
    }
   ],
   "source": [
    "movie1 = Movie(\"Prabas\",\"Anuskha\",\"Bahubali\", \"Rajamouli\", 9.5)\n",
    "print(movie1)"
   ]
  },
  {
   "cell_type": "markdown",
   "id": "5e202680-1444-44dd-8417-1b7b2b6ad8bf",
   "metadata": {},
   "source": [
    "# create a class attribute to represent different types of vehicles with their own attributes"
   ]
  },
  {
   "cell_type": "code",
   "execution_count": 59,
   "id": "45ca5745-5e34-42c4-a114-9f62a871c852",
   "metadata": {},
   "outputs": [],
   "source": [
    "class Vehicle:\n",
    "    def __init__(self, make, model):\n",
    "        self.make = make\n",
    "        self.model = model\n",
    "\n",
    "class Car(Vehicle):\n",
    "    def __init__(self, make, model, doors):\n",
    "        self.make = make\n",
    "        self.model = model\n",
    "        self.doors = doors\n",
    "\n",
    "class Truck(Vehicle):\n",
    "    def __init__(self,make,model,capacity):\n",
    "        self.make = make\n",
    "        self.model = model\n",
    "        self.capacity = capacity\n",
    "\n",
    "class Bike(Vehicle): \n",
    "    def __init__(self, make, model, engine_cc):\n",
    "        self.make = make\n",
    "        self.model = model\n",
    "        self.engine_cc = engine_cc\n",
    "\n",
    "class Bicycle(Vehicle):\n",
    "    def __init__(self, make, model, has_gears):\n",
    "        self.make = make\n",
    "        self.model = model\n",
    "        self.has_gears = has_gears\n",
    "\n",
    "class Bus(Vehicle):\n",
    "    def __init__(self, make, model, seating_capacity):\n",
    "        self.make = make\n",
    "        self.model = model\n",
    "        self.seating_capacity = seating_capacity"
   ]
  },
  {
   "cell_type": "code",
   "execution_count": 61,
   "id": "c10a7ed4-2c31-434a-8de2-48d01df04107",
   "metadata": {},
   "outputs": [
    {
     "name": "stdout",
     "output_type": "stream",
     "text": [
      "Car: Toyota Camry, Doors: 4\n",
      "Truck: Volvo, Model: Globetrotter, Capacity: 1000 lbs\n",
      "Bike: Royal Enfield, Model: Classic 360, Engine: 883 cc\n",
      "Bicycle: Giant, Model: Escape 3, Has Gears: True\n",
      "Bus: Mercedes-Benz, Model: Citaro, Seating Capacity: 50\n"
     ]
    }
   ],
   "source": [
    "car = Car(\"Toyota\", \"Camry\", 4)\n",
    "print(f\"Car: {car.make} {car.model}, Doors: {car.doors}\")\n",
    "\n",
    "truck = Truck(\"Volvo\", \"Globetrotter\", 1000)\n",
    "print(f\"Truck: {truck.make}, Model: {truck.model}, Capacity: {truck.capacity} lbs\")\n",
    "\n",
    "bike = Bike(\"Royal Enfield\", \"Classic 360\", 883)\n",
    "print(f\"Bike: {bike.make}, Model: {bike.model}, Engine: {bike.engine_cc} cc\")\n",
    "\n",
    "bicycle = Bicycle(\"Giant\", \"Escape 3\", True)\n",
    "print(f\"Bicycle: {bicycle.make}, Model: {bicycle.model}, Has Gears: {bicycle.has_gears}\")\n",
    "\n",
    "bus = Bus(\"Mercedes-Benz\", \"Citaro\", 50)\n",
    "print(f\"Bus: {bus.make}, Model: {bus.model}, Seating Capacity: {bus.seating_capacity}\")"
   ]
  },
  {
   "cell_type": "code",
   "execution_count": null,
   "id": "ba66a264-e293-4826-b00a-397782bb9baa",
   "metadata": {},
   "outputs": [],
   "source": []
  }
 ],
 "metadata": {
  "kernelspec": {
   "display_name": "Python 3 (ipykernel)",
   "language": "python",
   "name": "python3"
  },
  "language_info": {
   "codemirror_mode": {
    "name": "ipython",
    "version": 3
   },
   "file_extension": ".py",
   "mimetype": "text/x-python",
   "name": "python",
   "nbconvert_exporter": "python",
   "pygments_lexer": "ipython3",
   "version": "3.12.4"
  }
 },
 "nbformat": 4,
 "nbformat_minor": 5
}
