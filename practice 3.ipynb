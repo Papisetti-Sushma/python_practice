{
 "cells": [
  {
   "cell_type": "code",
   "execution_count": 56,
   "id": "5daa1771-3ee1-4401-809c-ae758e11e161",
   "metadata": {},
   "outputs": [
    {
     "name": "stdout",
     "output_type": "stream",
     "text": [
      "Welcome to Vamsi Restaurant\n",
      "Menu:\n",
      "Non-Veg Items:\n",
      "Chicken Curry\n",
      "Fish Biryani\n",
      "Mutton Biryani\n",
      "Prawn Masala\n",
      "Egg Curry\n",
      "Chicken Biryani \n",
      "Veg Items:\n",
      "Panner Tikka\n",
      "Veg Biryani\n",
      "Dal Makhani\n",
      "Palak Panner\n",
      "Vegetable Curry\n"
     ]
    },
    {
     "name": "stdin",
     "output_type": "stream",
     "text": [
      "Select an item from the menu:  Veg Biryani\n"
     ]
    },
    {
     "name": "stdout",
     "output_type": "stream",
     "text": [
      "This is a veg item, and the item is ready. Please wait.\n"
     ]
    }
   ],
   "source": [
    "def print_menu():\n",
    "    print(\"Menu:\")\n",
    "    print(\"Non-Veg Items:\")\n",
    "    for item in non_veg_items:\n",
    "        print(f\"{item}\")\n",
    "    \n",
    "    print(\"Veg Items:\")\n",
    "    for item in veg_items:\n",
    "        print(f\"{item}\")\n",
    "\n",
    "def select_item(item):\n",
    "    if item in non_veg_items:\n",
    "        print(\"This is a non-veg item, and the item is ready. Please wait.\")\n",
    "    elif item in veg_items:\n",
    "        print(\"This is a veg item, and the item is ready. Please wait.\")\n",
    "    else:\n",
    "        print(\"We don't serve that item.\")\n",
    "\n",
    "non_veg_items = [\"Chicken Curry\", \"Fish Biryani\", \"Mutton Biryani\", \"Prawn Masala\", \"Egg Curry\",\"Chicken Biryani \"]\n",
    "\n",
    "veg_items = [\"Panner Tikka\", \"Veg Biryani\", \"Dal Makhani\", \"Palak Panner\", \"Vegetable Curry\"]\n",
    "\n",
    "print(\"Welcome to Vamsi Restaurant\")\n",
    "print_menu()\n",
    "selected_item = input(\"Select an item from the menu: \")\n",
    "select_item(selected_item)"
   ]
  },
  {
   "cell_type": "markdown",
   "id": "2e9e4158-a501-4697-aa19-c67366382cfc",
   "metadata": {},
   "source": [
    "# 1.Prime numbers"
   ]
  },
  {
   "cell_type": "code",
   "execution_count": 2,
   "id": "1af1fe97-076b-40ca-abdb-ae00c82d8fb4",
   "metadata": {},
   "outputs": [
    {
     "name": "stdin",
     "output_type": "stream",
     "text": [
      "Enter a number:  34\n"
     ]
    },
    {
     "name": "stdout",
     "output_type": "stream",
     "text": [
      "Not prime\n"
     ]
    }
   ],
   "source": [
    "num = int(input(\"Enter a number: \"))\n",
    "def prime(num):\n",
    "    for i in range(2,num):\n",
    "        if num % i == 0:\n",
    "            print(\"Not prime\")\n",
    "            break\n",
    "    else:\n",
    "        print(\"Prime number\")\n",
    "\n",
    "prime(num)\n"
   ]
  },
  {
   "cell_type": "markdown",
   "id": "0f72f8f5-00f6-4584-a99f-da823ef740a2",
   "metadata": {},
   "source": [
    "# 2.Pattern"
   ]
  },
  {
   "cell_type": "code",
   "execution_count": 58,
   "id": "dd157c58-c6f8-4905-a73b-9dfadd1443ae",
   "metadata": {},
   "outputs": [
    {
     "name": "stdin",
     "output_type": "stream",
     "text": [
      "enter thr number: 5\n"
     ]
    },
    {
     "name": "stdout",
     "output_type": "stream",
     "text": [
      "11111\n",
      "2222\n",
      "333\n",
      "44\n",
      "5\n"
     ]
    }
   ],
   "source": [
    "n = int(input(\"enter thr number:\"))\n",
    "\n",
    "for i in range(1, n + 1):\n",
    "    print(str(i) * (n - i + 1))"
   ]
  },
  {
   "cell_type": "markdown",
   "id": "08a6bdca-be30-48b4-8154-003366a02782",
   "metadata": {},
   "source": [
    "# 3.Celsius to farenheit"
   ]
  },
  {
   "cell_type": "code",
   "execution_count": 4,
   "id": "e5c63767-74fd-48cc-9ccf-c20c41c05c4e",
   "metadata": {},
   "outputs": [
    {
     "name": "stdin",
     "output_type": "stream",
     "text": [
      "Enter the temperature in Celsius:  43\n"
     ]
    },
    {
     "name": "stdout",
     "output_type": "stream",
     "text": [
      "43.0 C is equal to 109.4 F\n"
     ]
    }
   ],
   "source": [
    "c = float(input(\"Enter the temperature in Celsius: \"))\n",
    "f = c*(9/5)+32\n",
    "print(f\"{c} C is equal to {f} F\")"
   ]
  },
  {
   "cell_type": "markdown",
   "id": "80479429-15d7-40a8-ab91-7fd64361a062",
   "metadata": {},
   "source": [
    "# 4.Simple intrest"
   ]
  },
  {
   "cell_type": "code",
   "execution_count": 5,
   "id": "3a117422-92d0-401a-990f-4846e67a1d4b",
   "metadata": {},
   "outputs": [
    {
     "name": "stdin",
     "output_type": "stream",
     "text": [
      "Enter the amount:  100000\n",
      "Enter the interest (in %):  5\n",
      "Enter the time (in years):  3\n"
     ]
    },
    {
     "name": "stdout",
     "output_type": "stream",
     "text": [
      "Simple Interest is: 15000.0\n"
     ]
    }
   ],
   "source": [
    "p = int(input(\"Enter the amount: \"))\n",
    "r = float(input(\"Enter the interest (in %): \"))\n",
    "t = int(input(\"Enter the time (in years): \"))\n",
    "\n",
    "simple_interest = (p*r*t) / 100\n",
    "\n",
    "print(f\"Simple Interest is: {simple_interest}\")"
   ]
  },
  {
   "cell_type": "markdown",
   "id": "22dfd4c2-40c7-42d1-a9fd-4524928f1497",
   "metadata": {},
   "source": [
    "# 5.Number to decimal"
   ]
  },
  {
   "cell_type": "code",
   "execution_count": 6,
   "id": "af3af215-f998-47de-930b-fd57f204415f",
   "metadata": {},
   "outputs": [],
   "source": [
    "def decimal(num):\n",
    "     a=float(num)\n",
    "     print(a)"
   ]
  },
  {
   "cell_type": "code",
   "execution_count": 7,
   "id": "6ba43079-e070-4b48-8c94-da8fe72463d8",
   "metadata": {},
   "outputs": [
    {
     "name": "stdout",
     "output_type": "stream",
     "text": [
      "100.0\n"
     ]
    }
   ],
   "source": [
    "decimal(100)"
   ]
  },
  {
   "cell_type": "markdown",
   "id": "2ef9b31f-b95b-48ca-b766-5e70280e7fcd",
   "metadata": {},
   "source": [
    "# 6.character is digit or not"
   ]
  },
  {
   "cell_type": "code",
   "execution_count": 62,
   "id": "e21b3ab1-332a-4c1a-ad93-5beacffa5385",
   "metadata": {},
   "outputs": [
    {
     "name": "stdin",
     "output_type": "stream",
     "text": [
      "enter the number: sus\n"
     ]
    },
    {
     "name": "stdout",
     "output_type": "stream",
     "text": [
      "It is not a digit\n"
     ]
    }
   ],
   "source": [
    "char = input(\"enter the number:\")\n",
    "\n",
    "if char.isdigit():\n",
    "    print(\"It is a digit\")\n",
    "else:\n",
    "    print(\"It is not a digit\")"
   ]
  },
  {
   "cell_type": "markdown",
   "id": "33795614-affc-46ab-9a87-10f50c81f741",
   "metadata": {},
   "source": [
    "# 7.Armstrong number"
   ]
  },
  {
   "cell_type": "code",
   "execution_count": 20,
   "id": "893a5656-d2b8-4f3e-b0bf-901a81927971",
   "metadata": {},
   "outputs": [
    {
     "name": "stdin",
     "output_type": "stream",
     "text": [
      "Enter a number:  153\n"
     ]
    },
    {
     "name": "stdout",
     "output_type": "stream",
     "text": [
      "153 is an Armstrong number\n"
     ]
    }
   ],
   "source": [
    "num = int(input(\"Enter a number: \"))\n",
    "sum = 0\n",
    "temp = num\n",
    "while temp > 0:\n",
    "    digit = temp % 10\n",
    "    sum += digit ** 3\n",
    "    temp //= 10\n",
    "\n",
    "# Display the result\n",
    "if num == sum:\n",
    "    print(num, \"is an Armstrong number\")\n",
    "else:\n",
    "    print(num, \"is not an Armstrong number\")"
   ]
  },
  {
   "cell_type": "markdown",
   "id": "b2b746a1-1f36-4db1-b0c3-3810de53fca9",
   "metadata": {},
   "source": [
    "# 8.Anagram or not"
   ]
  },
  {
   "cell_type": "code",
   "execution_count": 39,
   "id": "50976188-6c5b-4183-b2b1-d26827134466",
   "metadata": {},
   "outputs": [
    {
     "name": "stdin",
     "output_type": "stream",
     "text": [
      "enter the string1: sushma\n",
      "enter the string2: hfjf\n"
     ]
    },
    {
     "name": "stdout",
     "output_type": "stream",
     "text": [
      "The strings aren't anagrams.\n"
     ]
    }
   ],
   "source": [
    "s1=input(\"enter the string1:\")\n",
    "s2=input(\"enter the string2:\")\n",
    "\n",
    "def check(s1, s2):\n",
    "    if(sorted(s1)== sorted(s2)):\n",
    "        print(\"The strings are anagrams.\") \n",
    "    else:\n",
    "        print(\"The strings aren't anagrams.\")        \n",
    "        \n",
    "check(s1,s2) # formed by rearranging the letters of another word or phrase, using all the original letters exactly once"
   ]
  },
  {
   "cell_type": "markdown",
   "id": "6caea2ae-6075-4331-8e42-d120bc620443",
   "metadata": {},
   "source": [
    "# 9.GCD of two numbers"
   ]
  },
  {
   "cell_type": "code",
   "execution_count": 36,
   "id": "898c1605-8ab1-47e8-9867-96ab80bc0a89",
   "metadata": {},
   "outputs": [
    {
     "name": "stdin",
     "output_type": "stream",
     "text": [
      "Enter the first number:  12\n",
      "Enter the second number:  18\n"
     ]
    },
    {
     "name": "stdout",
     "output_type": "stream",
     "text": [
      "6\n"
     ]
    }
   ],
   "source": [
    "def gcd(a, b):\n",
    "    while b != 0:\n",
    "        a, b = b, a % b  \n",
    "    print(a) \n",
    "\n",
    "\n",
    "num1 = int(input(\"Enter the first number: \"))\n",
    "num2 = int(input(\"Enter the second number: \"))\n",
    "\n",
    "result = gcd(num1, num2)\n",
    "\n",
    "#Multiply the common prime factors with the lowest powers."
   ]
  },
  {
   "cell_type": "markdown",
   "id": "9aee97a7-d132-4d00-bafc-bd99a0b2311c",
   "metadata": {},
   "source": [
    "# 10.Replace character in place of space"
   ]
  },
  {
   "cell_type": "code",
   "execution_count": 46,
   "id": "c2877f9d-a102-4400-83cd-fa700fff5b42",
   "metadata": {},
   "outputs": [
    {
     "name": "stdin",
     "output_type": "stream",
     "text": [
      "Enter the string:  sush a\n",
      "Enter the replacing character:  m\n"
     ]
    },
    {
     "name": "stdout",
     "output_type": "stream",
     "text": [
      "sushma\n"
     ]
    }
   ],
   "source": [
    "a = input(\"Enter the string: \")\n",
    "b = input(\"Enter the replacing character: \")\n",
    "\n",
    "replacing_string = a.replace(\" \", b)\n",
    "\n",
    "print(replacing_string)"
   ]
  },
  {
   "cell_type": "markdown",
   "id": "2ab97a22-7ace-45ec-839b-073eb7a89641",
   "metadata": {},
   "source": [
    "# 11.Swap 2 numbers without using third parameter"
   ]
  },
  {
   "cell_type": "code",
   "execution_count": 104,
   "id": "0eb9b153-6119-438d-89ba-560d12c414a0",
   "metadata": {},
   "outputs": [
    {
     "name": "stdout",
     "output_type": "stream",
     "text": [
      "Values before swapping: num1=2, num2=1\n",
      "The swapped values are: num1=1, num2=2\n",
      "1 2\n"
     ]
    }
   ],
   "source": [
    "def swapping(num1, num2):\n",
    "    print(f'Values before swapping: num1={num1}, num2={num2}')\n",
    "    num1, num2 = num2, num1\n",
    "    print(f'The swapped values are: num1={num1}, num2={num2}')\n",
    "    print(num1, num2)\n",
    "\n",
    "swapping(2,1)"
   ]
  },
  {
   "cell_type": "code",
   "execution_count": 106,
   "id": "b049b3e5-c5bf-4644-80f7-a79e725dd955",
   "metadata": {},
   "outputs": [
    {
     "name": "stdin",
     "output_type": "stream",
     "text": [
      "Enter the first number:  4\n",
      "Enter the second number:  3\n"
     ]
    },
    {
     "name": "stdout",
     "output_type": "stream",
     "text": [
      "After swapping:\n",
      "a = 3\n",
      "b = 4\n"
     ]
    }
   ],
   "source": [
    "a = int(input(\"Enter the first number: \"))\n",
    "b = int(input(\"Enter the second number: \"))\n",
    "a = a + b \n",
    "b = a - b \n",
    "a = a - b\n",
    "\n",
    "print(\"After swapping:\")\n",
    "print(\"a =\", a)\n",
    "print(\"b =\", b)"
   ]
  },
  {
   "cell_type": "markdown",
   "id": "fa52bf05-8daa-4af3-ba79-dbbd1fefa9cd",
   "metadata": {},
   "source": [
    "# 12.Remove duplicates"
   ]
  },
  {
   "cell_type": "code",
   "execution_count": 51,
   "id": "09d58bf4-8afe-44ce-bee1-4fca7ae7f6ea",
   "metadata": {},
   "outputs": [
    {
     "name": "stdin",
     "output_type": "stream",
     "text": [
      "Enter a string:  sushma\n"
     ]
    },
    {
     "name": "stdout",
     "output_type": "stream",
     "text": [
      "['m', 's', 'a', 'h', 'u']\n"
     ]
    }
   ],
   "source": [
    "strs = input(\"Enter a string: \")\n",
    "li = list(set(strs)) # set():unique elements from that list\n",
    "print(li)"
   ]
  },
  {
   "cell_type": "markdown",
   "id": "c20889a4-574b-4e1e-abe0-33f0308093b7",
   "metadata": {},
   "source": [
    "# 13.add 2 numbers without using any arithmetic operator"
   ]
  },
  {
   "cell_type": "code",
   "execution_count": 80,
   "id": "a7435bf7-41e9-441a-b276-163201209e53",
   "metadata": {},
   "outputs": [
    {
     "name": "stdin",
     "output_type": "stream",
     "text": [
      "enter the number1:  5\n",
      "enter the number2:  4\n"
     ]
    },
    {
     "name": "stdout",
     "output_type": "stream",
     "text": [
      "Sum: 9\n"
     ]
    }
   ],
   "source": [
    "a = int(input(\"enter the number1: \"))\n",
    "b = int(input(\"enter the number2: \"))\n",
    "\n",
    "while b != 0:\n",
    "    carry = a & b\n",
    "    a = a ^ b\n",
    "    b = carry << 1\n",
    "\n",
    "print(\"Sum:\", a)"
   ]
  },
  {
   "cell_type": "markdown",
   "id": "2475fbc8-8885-4a53-8819-b531c9dde310",
   "metadata": {},
   "source": [
    "# 14.first non repeating occurence"
   ]
  },
  {
   "cell_type": "code",
   "execution_count": 97,
   "id": "fa87c795-4482-434d-a3dc-823d72472460",
   "metadata": {},
   "outputs": [
    {
     "name": "stdin",
     "output_type": "stream",
     "text": [
      "enter character : sushma\n"
     ]
    },
    {
     "name": "stdout",
     "output_type": "stream",
     "text": [
      "u is the first non-repeating of the string\n"
     ]
    }
   ],
   "source": [
    "str=input('enter character :')\n",
    "\n",
    "for i in str:\n",
    "    if str.count(i)==1:\n",
    "        print(f'{i} is the first non-repeating of the string')\n",
    "        break\n",
    "else:\n",
    "    print(f\"There are no first non-repeating\") "
   ]
  },
  {
   "cell_type": "code",
   "execution_count": null,
   "id": "d803e24d-92e8-481f-8ca6-160e7eff825b",
   "metadata": {},
   "outputs": [],
   "source": []
  }
 ],
 "metadata": {
  "kernelspec": {
   "display_name": "Python 3 (ipykernel)",
   "language": "python",
   "name": "python3"
  },
  "language_info": {
   "codemirror_mode": {
    "name": "ipython",
    "version": 3
   },
   "file_extension": ".py",
   "mimetype": "text/x-python",
   "name": "python",
   "nbconvert_exporter": "python",
   "pygments_lexer": "ipython3",
   "version": "3.12.4"
  }
 },
 "nbformat": 4,
 "nbformat_minor": 5
}
